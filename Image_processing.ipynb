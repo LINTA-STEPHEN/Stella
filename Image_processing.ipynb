{
 "cells": [
  {
   "cell_type": "code",
   "execution_count": 1,
   "id": "3b0dba53",
   "metadata": {},
   "outputs": [],
   "source": [
    "import pandas as pd\n",
    "import numpy as np"
   ]
  },
  {
   "cell_type": "code",
   "execution_count": 2,
   "id": "b226dab0",
   "metadata": {},
   "outputs": [
    {
     "data": {
      "text/html": [
       "<div>\n",
       "<style scoped>\n",
       "    .dataframe tbody tr th:only-of-type {\n",
       "        vertical-align: middle;\n",
       "    }\n",
       "\n",
       "    .dataframe tbody tr th {\n",
       "        vertical-align: top;\n",
       "    }\n",
       "\n",
       "    .dataframe thead th {\n",
       "        text-align: right;\n",
       "    }\n",
       "</style>\n",
       "<table border=\"1\" class=\"dataframe\">\n",
       "  <thead>\n",
       "    <tr style=\"text-align: right;\">\n",
       "      <th></th>\n",
       "      <th>Bins</th>\n",
       "      <th>image1</th>\n",
       "      <th>image2</th>\n",
       "      <th>image3</th>\n",
       "      <th>image4</th>\n",
       "      <th>image5</th>\n",
       "      <th>image6</th>\n",
       "    </tr>\n",
       "  </thead>\n",
       "  <tbody>\n",
       "    <tr>\n",
       "      <th>0</th>\n",
       "      <td>0</td>\n",
       "      <td>0</td>\n",
       "      <td>0</td>\n",
       "      <td>0</td>\n",
       "      <td>0</td>\n",
       "      <td>0</td>\n",
       "      <td>0</td>\n",
       "    </tr>\n",
       "    <tr>\n",
       "      <th>1</th>\n",
       "      <td>1</td>\n",
       "      <td>0</td>\n",
       "      <td>0</td>\n",
       "      <td>0</td>\n",
       "      <td>0</td>\n",
       "      <td>0</td>\n",
       "      <td>0</td>\n",
       "    </tr>\n",
       "    <tr>\n",
       "      <th>2</th>\n",
       "      <td>2</td>\n",
       "      <td>0</td>\n",
       "      <td>0</td>\n",
       "      <td>0</td>\n",
       "      <td>0</td>\n",
       "      <td>0</td>\n",
       "      <td>0</td>\n",
       "    </tr>\n",
       "    <tr>\n",
       "      <th>3</th>\n",
       "      <td>3</td>\n",
       "      <td>0</td>\n",
       "      <td>0</td>\n",
       "      <td>0</td>\n",
       "      <td>0</td>\n",
       "      <td>0</td>\n",
       "      <td>0</td>\n",
       "    </tr>\n",
       "    <tr>\n",
       "      <th>4</th>\n",
       "      <td>4</td>\n",
       "      <td>0</td>\n",
       "      <td>0</td>\n",
       "      <td>0</td>\n",
       "      <td>0</td>\n",
       "      <td>0</td>\n",
       "      <td>0</td>\n",
       "    </tr>\n",
       "    <tr>\n",
       "      <th>...</th>\n",
       "      <td>...</td>\n",
       "      <td>...</td>\n",
       "      <td>...</td>\n",
       "      <td>...</td>\n",
       "      <td>...</td>\n",
       "      <td>...</td>\n",
       "      <td>...</td>\n",
       "    </tr>\n",
       "    <tr>\n",
       "      <th>251</th>\n",
       "      <td>251</td>\n",
       "      <td>5</td>\n",
       "      <td>170</td>\n",
       "      <td>25</td>\n",
       "      <td>18</td>\n",
       "      <td>64</td>\n",
       "      <td>1283</td>\n",
       "    </tr>\n",
       "    <tr>\n",
       "      <th>252</th>\n",
       "      <td>252</td>\n",
       "      <td>4</td>\n",
       "      <td>737</td>\n",
       "      <td>55</td>\n",
       "      <td>14</td>\n",
       "      <td>85</td>\n",
       "      <td>2614</td>\n",
       "    </tr>\n",
       "    <tr>\n",
       "      <th>253</th>\n",
       "      <td>253</td>\n",
       "      <td>1</td>\n",
       "      <td>710</td>\n",
       "      <td>75</td>\n",
       "      <td>16</td>\n",
       "      <td>114</td>\n",
       "      <td>3396</td>\n",
       "    </tr>\n",
       "    <tr>\n",
       "      <th>254</th>\n",
       "      <td>254</td>\n",
       "      <td>1</td>\n",
       "      <td>732</td>\n",
       "      <td>63</td>\n",
       "      <td>22</td>\n",
       "      <td>98</td>\n",
       "      <td>3909</td>\n",
       "    </tr>\n",
       "    <tr>\n",
       "      <th>255</th>\n",
       "      <td>255</td>\n",
       "      <td>25</td>\n",
       "      <td>735</td>\n",
       "      <td>65</td>\n",
       "      <td>33</td>\n",
       "      <td>107</td>\n",
       "      <td>3341</td>\n",
       "    </tr>\n",
       "  </tbody>\n",
       "</table>\n",
       "<p>256 rows × 7 columns</p>\n",
       "</div>"
      ],
      "text/plain": [
       "     Bins  image1  image2  image3  image4  image5  image6\n",
       "0       0       0       0       0       0       0       0\n",
       "1       1       0       0       0       0       0       0\n",
       "2       2       0       0       0       0       0       0\n",
       "3       3       0       0       0       0       0       0\n",
       "4       4       0       0       0       0       0       0\n",
       "..    ...     ...     ...     ...     ...     ...     ...\n",
       "251   251       5     170      25      18      64    1283\n",
       "252   252       4     737      55      14      85    2614\n",
       "253   253       1     710      75      16     114    3396\n",
       "254   254       1     732      63      22      98    3909\n",
       "255   255      25     735      65      33     107    3341\n",
       "\n",
       "[256 rows x 7 columns]"
      ]
     },
     "execution_count": 2,
     "metadata": {},
     "output_type": "execute_result"
    }
   ],
   "source": [
    "data=pd.read_excel(r'C:\\Users\\Linta Stephen\\Downloads\\S_xcel.xlsx')\n",
    "data"
   ]
  },
  {
   "cell_type": "code",
   "execution_count": 3,
   "id": "1aaf6bb5",
   "metadata": {},
   "outputs": [
    {
     "data": {
      "text/plain": [
       "(256, 7)"
      ]
     },
     "execution_count": 3,
     "metadata": {},
     "output_type": "execute_result"
    }
   ],
   "source": [
    "data.shape"
   ]
  },
  {
   "cell_type": "code",
   "execution_count": 4,
   "id": "0cb36202",
   "metadata": {},
   "outputs": [
    {
     "name": "stdout",
     "output_type": "stream",
     "text": [
      "<class 'pandas.core.frame.DataFrame'>\n",
      "RangeIndex: 256 entries, 0 to 255\n",
      "Data columns (total 7 columns):\n",
      " #   Column  Non-Null Count  Dtype\n",
      "---  ------  --------------  -----\n",
      " 0   Bins    256 non-null    int64\n",
      " 1   image1  256 non-null    int64\n",
      " 2   image2  256 non-null    int64\n",
      " 3   image3  256 non-null    int64\n",
      " 4   image4  256 non-null    int64\n",
      " 5   image5  256 non-null    int64\n",
      " 6   image6  256 non-null    int64\n",
      "dtypes: int64(7)\n",
      "memory usage: 14.1 KB\n"
     ]
    }
   ],
   "source": [
    "data.info()"
   ]
  },
  {
   "cell_type": "code",
   "execution_count": 5,
   "id": "a30c73b5",
   "metadata": {},
   "outputs": [
    {
     "data": {
      "text/plain": [
       "Bins      int64\n",
       "image1    int64\n",
       "image2    int64\n",
       "image3    int64\n",
       "image4    int64\n",
       "image5    int64\n",
       "image6    int64\n",
       "dtype: object"
      ]
     },
     "execution_count": 5,
     "metadata": {},
     "output_type": "execute_result"
    }
   ],
   "source": [
    "data.dtypes"
   ]
  },
  {
   "cell_type": "code",
   "execution_count": 7,
   "id": "b0d564d7",
   "metadata": {},
   "outputs": [
    {
     "data": {
      "text/plain": [
       "Bins      0\n",
       "image1    0\n",
       "image2    0\n",
       "image3    0\n",
       "image4    0\n",
       "image5    0\n",
       "image6    0\n",
       "dtype: int64"
      ]
     },
     "execution_count": 7,
     "metadata": {},
     "output_type": "execute_result"
    }
   ],
   "source": [
    "data.isna().sum()"
   ]
  },
  {
   "cell_type": "code",
   "execution_count": 6,
   "id": "f2f51576",
   "metadata": {},
   "outputs": [
    {
     "data": {
      "text/plain": [
       "Index(['Bins', 'image1', 'image2', 'image3', 'image4', 'image5', 'image6'], dtype='object')"
      ]
     },
     "execution_count": 6,
     "metadata": {},
     "output_type": "execute_result"
    }
   ],
   "source": [
    "data.columns"
   ]
  },
  {
   "cell_type": "code",
   "execution_count": 9,
   "id": "7c729783",
   "metadata": {},
   "outputs": [
    {
     "data": {
      "text/plain": [
       "Bins       127.500000\n",
       "image1    1760.675781\n",
       "image2    3600.000000\n",
       "image3    3600.000000\n",
       "image4    3600.000000\n",
       "image5    3600.000000\n",
       "image6    3600.000000\n",
       "dtype: float64"
      ]
     },
     "execution_count": 9,
     "metadata": {},
     "output_type": "execute_result"
    }
   ],
   "source": [
    "Mean=data.mean()\n",
    "Mean"
   ]
  },
  {
   "cell_type": "code",
   "execution_count": 10,
   "id": "944072e9",
   "metadata": {},
   "outputs": [
    {
     "data": {
      "text/plain": [
       "Bins      5.482667e+03\n",
       "image1    5.434102e+06\n",
       "image2    1.111118e+07\n",
       "image3    1.923846e+07\n",
       "image4    1.850680e+07\n",
       "image5    1.947470e+07\n",
       "image6    1.361188e+07\n",
       "dtype: float64"
      ]
     },
     "execution_count": 10,
     "metadata": {},
     "output_type": "execute_result"
    }
   ],
   "source": [
    "Variance=data.var()\n",
    "Variance"
   ]
  },
  {
   "cell_type": "code",
   "execution_count": 11,
   "id": "6db44ad3",
   "metadata": {},
   "outputs": [
    {
     "data": {
      "text/plain": [
       "Bins        74.045031\n",
       "image1    2331.116067\n",
       "image2    3333.343897\n",
       "image3    4386.167246\n",
       "image4    4301.953450\n",
       "image5    4413.014448\n",
       "image6    3689.428456\n",
       "dtype: float64"
      ]
     },
     "execution_count": 11,
     "metadata": {},
     "output_type": "execute_result"
    }
   ],
   "source": [
    "Standard_Deviation=data.std()\n",
    "Standard_Deviation"
   ]
  },
  {
   "cell_type": "code",
   "execution_count": null,
   "id": "84522330",
   "metadata": {},
   "outputs": [],
   "source": []
  }
 ],
 "metadata": {
  "kernelspec": {
   "display_name": "Python 3 (ipykernel)",
   "language": "python",
   "name": "python3"
  },
  "language_info": {
   "codemirror_mode": {
    "name": "ipython",
    "version": 3
   },
   "file_extension": ".py",
   "mimetype": "text/x-python",
   "name": "python",
   "nbconvert_exporter": "python",
   "pygments_lexer": "ipython3",
   "version": "3.9.13"
  }
 },
 "nbformat": 4,
 "nbformat_minor": 5
}
